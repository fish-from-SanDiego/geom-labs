{
 "cells": [
  {
   "cell_type": "code",
   "id": "initial_id",
   "metadata": {
    "collapsed": true,
    "ExecuteTime": {
     "end_time": "2025-04-27T23:27:44.175056Z",
     "start_time": "2025-04-27T23:27:44.173056Z"
    }
   },
   "source": [
    ""
   ],
   "outputs": [],
   "execution_count": null
  },
  {
   "metadata": {
    "ExecuteTime": {
     "end_time": "2025-04-27T23:27:44.227638Z",
     "start_time": "2025-04-27T23:27:44.186415Z"
    }
   },
   "cell_type": "code",
   "source": [
    "import matplotlib.pyplot as plt\n",
    "import numpy as np\n",
    "from scipy.spatial import ConvexHull\n",
    "from shapely.geometry import Polygon, Point\n",
    "import random\n",
    "\n",
    "points = [Point(random.randint(0, 100), random.randint(0, 100)) for _ in range(30)]\n",
    "\n",
    "# Удаление дубликатов\n",
    "unique_points = []\n",
    "seen = set()\n",
    "for p in points:\n",
    "    if (p.x, p.y) not in seen:\n",
    "        seen.add((p.x, p.y))\n",
    "        unique_points.append(p)\n",
    "points = unique_points\n",
    "# 1. Создаем множества точек E1 и E\n",
    "# Множество E1 - точки в прямоугольнике [0,3]x[0,3]\n",
    "E1 = points[0:len(points)//2]\n",
    "# Множество E2 - точки в прямоугольнике [2,5]x[2,5]\n",
    "E2 = points[len(points)//2+1:]\n",
    "\n",
    "# 2. Строим выпуклые оболочки\n",
    "hull_E1 = ConvexHull(E1)\n",
    "hull_E2 = ConvexHull(E2)\n",
    "\n",
    "# 3. Создаем полигоны для выпуклых оболочек\n",
    "poly_E1 = Polygon(E1[hull_E1.vertices])\n",
    "poly_E2 = Polygon(E2[hull_E2.vertices])\n",
    "\n",
    "# 4. Находим пересечение выпуклых оболочек\n",
    "intersection = poly_E1.intersection(poly_E2)\n",
    "\n",
    "# 5. Находим внутренние точки\n",
    "inner_points_E1 = [p for p in E1 if intersection.contains(Point(p))]\n",
    "inner_points_E2 = [p for p in E2 if intersection.contains(Point(p))]\n",
    "\n",
    "# 6. Визуализация\n",
    "plt.figure(figsize=(10, 8))\n",
    "\n",
    "# Отображаем точки множеств\n",
    "plt.scatter(E1[:,0], E1[:,1], c='blue', label='Множество E1')\n",
    "plt.scatter(E2[:,0], E2[:,1], c='green', label='Множество E2')\n",
    "\n",
    "# Отображаем выпуклые оболочки\n",
    "for simplex in hull_E1.simplices:\n",
    "    plt.plot(E1[simplex, 0], E1[simplex, 1], 'b--')\n",
    "for simplex in hull_E2.simplices:\n",
    "    plt.plot(E2[simplex, 0], E2[simplex, 1], 'g--')\n",
    "\n",
    "# Отображаем пересечение\n",
    "if not intersection.is_empty:\n",
    "    if intersection.geom_type == 'Polygon':\n",
    "        x, y = intersection.exterior.xy\n",
    "        plt.fill(x, y, alpha=0.3, fc='red', label='Пересечение P')\n",
    "    elif intersection.geom_type == 'MultiPolygon':\n",
    "        for poly in intersection.geoms:\n",
    "            x, y = poly.exterior.xy\n",
    "            plt.fill(x, y, alpha=0.3, fc='red')\n",
    "\n",
    "# Отображаем внутренние точки\n",
    "if inner_points_E1:\n",
    "    inner_E1 = np.array(inner_points_E1)\n",
    "    plt.scatter(inner_E1[:,0], inner_E1[:,1], c='blue', s=100, marker='*', label='Внутренние точки E1')\n",
    "if inner_points_E2:\n",
    "    inner_E2 = np.array(inner_points_E2)\n",
    "    plt.scatter(inner_E2[:,0], inner_E2[:,1], c='green', s=100, marker='*', label='Внутренние точки E2')\n",
    "\n",
    "plt.title('Выпуклые оболочки и их пересечение')\n",
    "plt.xlabel('X')\n",
    "plt.ylabel('Y')\n",
    "plt.grid(True)\n",
    "plt.legend()\n",
    "plt.show()\n",
    "\n",
    "# Выводим информацию о внутренних точках\n",
    "print(\"Внутренние точки множества E1:\")\n",
    "for p in inner_points_E1:\n",
    "    print(f\"({p[0]:.2f}, {p[1]:.2f})\")\n",
    "\n",
    "print(\"\\nВнутренние точки множества E2:\")\n",
    "for p in inner_points_E2:\n",
    "    print(f\"({p[0]:.2f}, {p[1]:.2f})\")"
   ],
   "id": "b2b91bfba41f3b5a",
   "outputs": [
    {
     "ename": "TypeError",
     "evalue": "float() argument must be a string or a real number, not 'Point'",
     "output_type": "error",
     "traceback": [
      "\u001B[1;31m---------------------------------------------------------------------------\u001B[0m",
      "\u001B[1;31mTypeError\u001B[0m                                 Traceback (most recent call last)",
      "Cell \u001B[1;32mIn[27], line 24\u001B[0m\n\u001B[0;32m     21\u001B[0m E2 \u001B[38;5;241m=\u001B[39m points[\u001B[38;5;28mlen\u001B[39m(points)\u001B[38;5;241m/\u001B[39m\u001B[38;5;241m/\u001B[39m\u001B[38;5;241m2\u001B[39m\u001B[38;5;241m+\u001B[39m\u001B[38;5;241m1\u001B[39m:]\n\u001B[0;32m     23\u001B[0m \u001B[38;5;66;03m# 2. Строим выпуклые оболочки\u001B[39;00m\n\u001B[1;32m---> 24\u001B[0m hull_E1 \u001B[38;5;241m=\u001B[39m ConvexHull(E1)\n\u001B[0;32m     25\u001B[0m hull_E2 \u001B[38;5;241m=\u001B[39m ConvexHull(E2)\n\u001B[0;32m     27\u001B[0m \u001B[38;5;66;03m# 3. Создаем полигоны для выпуклых оболочек\u001B[39;00m\n",
      "File \u001B[1;32m_qhull.pyx:2478\u001B[0m, in \u001B[0;36mscipy.spatial._qhull.ConvexHull.__init__\u001B[1;34m()\u001B[0m\n",
      "\u001B[1;31mTypeError\u001B[0m: float() argument must be a string or a real number, not 'Point'"
     ]
    }
   ],
   "execution_count": 27
  }
 ],
 "metadata": {
  "kernelspec": {
   "display_name": "Python 3",
   "language": "python",
   "name": "python3"
  },
  "language_info": {
   "codemirror_mode": {
    "name": "ipython",
    "version": 2
   },
   "file_extension": ".py",
   "mimetype": "text/x-python",
   "name": "python",
   "nbconvert_exporter": "python",
   "pygments_lexer": "ipython2",
   "version": "2.7.6"
  }
 },
 "nbformat": 4,
 "nbformat_minor": 5
}
