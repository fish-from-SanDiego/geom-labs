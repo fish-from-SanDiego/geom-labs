{
 "cells": [
  {
   "metadata": {
    "ExecuteTime": {
     "end_time": "2025-05-01T12:24:27.561812Z",
     "start_time": "2025-05-01T12:24:27.556411Z"
    }
   },
   "cell_type": "code",
   "source": [
    "from sortedcontainers import SortedList\n",
    "\n",
    "\n",
    "class MyClass:\n",
    "    def __init__(self, first, second):\n",
    "        self.first = first\n",
    "        self.second = second\n",
    "\n",
    "    def __lt__(self, other):\n",
    "        return self.first < other.first or (self.first == other.first and self.second < other.second)\n",
    "\n",
    "    def __eq__(self, other):\n",
    "        return self.first == other.first and self.second == other.second\n",
    "\n",
    "    def __hash__(self):\n",
    "        return hash((self.first, self.second))\n"
   ],
   "id": "59792b252d7b729e",
   "outputs": [],
   "execution_count": 14
  },
  {
   "metadata": {
    "ExecuteTime": {
     "end_time": "2025-05-01T12:24:33.476412Z",
     "start_time": "2025-05-01T12:24:33.471420Z"
    }
   },
   "cell_type": "code",
   "source": [
    "sl = SortedList()\n",
    "a, b, c = MyClass(1, 2), MyClass(1, 4), MyClass(1, 0)\n",
    "sl.add(a)\n",
    "sl.add(b)\n",
    "sl.add(c)\n",
    "print(sl.index(a), sl.index(b),sl.index(c))"
   ],
   "id": "fd07203e2a924b35",
   "outputs": [
    {
     "name": "stdout",
     "output_type": "stream",
     "text": [
      "1 2 0\n"
     ]
    }
   ],
   "execution_count": 16
  }
 ],
 "metadata": {
  "kernelspec": {
   "display_name": "Python 3",
   "language": "python",
   "name": "python3"
  },
  "language_info": {
   "codemirror_mode": {
    "name": "ipython",
    "version": 2
   },
   "file_extension": ".py",
   "mimetype": "text/x-python",
   "name": "python",
   "nbconvert_exporter": "python",
   "pygments_lexer": "ipython2",
   "version": "2.7.6"
  }
 },
 "nbformat": 4,
 "nbformat_minor": 5
}
