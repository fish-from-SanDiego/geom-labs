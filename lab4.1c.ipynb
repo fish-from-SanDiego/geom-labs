{
 "cells": [
  {
   "metadata": {
    "ExecuteTime": {
     "end_time": "2025-04-27T21:37:35.850941Z",
     "start_time": "2025-04-27T21:37:35.847216Z"
    }
   },
   "cell_type": "code",
   "source": [
    "from enum import Enum\n",
    "from heapq import heappush\n",
    "\n",
    "import numpy as np\n",
    "from sortedcontainers import SortedList\n",
    "\n",
    "\n",
    "class EventType(Enum):\n",
    "    BEGIN = 1\n",
    "    END = 2\n",
    "    INTERSECT = 3"
   ],
   "id": "5d04513140d4466c",
   "outputs": [],
   "execution_count": 224
  },
  {
   "metadata": {
    "ExecuteTime": {
     "end_time": "2025-04-27T21:37:35.862192Z",
     "start_time": "2025-04-27T21:37:35.854952Z"
    }
   },
   "cell_type": "code",
   "source": [
    "def generate_random_segments(n=10, min_intersections=2, coord_range=(0, 10)):\n",
    "    # Создаем массив для хранения отрезков: (n, 2, 2), где каждый отрезок описывается двумя точками (x1,y1)-(x2,y2)\n",
    "    segments = np.zeros((n, 2, 2))\n",
    "\n",
    "    # Генерируем min_intersections пар пересекающихся отрезков\n",
    "    for i in range(0, min_intersections * 2, 2):\n",
    "        # Первый отрезок (горизонтальный или вертикальный)\n",
    "        if np.random.choice([True, False]):\n",
    "            # Горизонтальный отрезок\n",
    "            y = np.random.uniform(*coord_range)\n",
    "            x1, x2 = np.random.uniform(*coord_range, size=2)\n",
    "            segments[i] = np.array([[x1, y], [x2, y]])\n",
    "        else:\n",
    "            # Вертикальный отрезок\n",
    "            x = np.random.uniform(*coord_range)\n",
    "            y1, y2 = np.random.uniform(*coord_range, size=2)\n",
    "            segments[i] = np.array([[x, y1], [x, y2]])\n",
    "\n",
    "        # Второй отрезок, гарантированно пересекающий первый\n",
    "        if segments[i, 0, 0] == segments[i, 1, 0]:  # Первый вертикальный → второй горизонтальный\n",
    "            x = segments[i, 0, 0]\n",
    "            y = np.random.uniform(*coord_range)\n",
    "            segments[i + 1] = np.array([[x - 2, y], [x + 2, y]])  # Пересекает первый\n",
    "        else:  # Первый горизонтальный → второй вертикальный\n",
    "            y = segments[i, 0, 1]\n",
    "            x = np.random.uniform(*coord_range)\n",
    "            segments[i + 1] = np.array([[x, y - 2], [x, y + 2]])  # Пересекает первый\n",
    "\n",
    "    # Остальные отрезки — случайные\n",
    "    for i in range(min_intersections * 2, n):\n",
    "        segments[i] = np.random.uniform(*coord_range, size=(2, 2))\n",
    "\n",
    "    return segments\n"
   ],
   "id": "81a181ded73e26ed",
   "outputs": [],
   "execution_count": 225
  },
  {
   "metadata": {
    "ExecuteTime": {
     "end_time": "2025-04-27T21:37:35.873850Z",
     "start_time": "2025-04-27T21:37:35.869921Z"
    }
   },
   "cell_type": "code",
   "source": [
    "def point_on_segment(a, b, s):\n",
    "    ax, ay = a\n",
    "    bx, by = b\n",
    "    cx, cy = s\n",
    "\n",
    "    cross_product = (bx - ax) * (cy - ay) - (by - ay) * (cx - ax)\n",
    "    if abs(cross_product) > 1e-12:  # учитываем погрешность вычислений\n",
    "        return False\n",
    "\n",
    "    in_x = min(ax, bx) <= cx <= max(ax, bx)\n",
    "    in_y = min(ay, by) <= cy <= max(ay, by)\n",
    "\n",
    "    return in_x and in_y"
   ],
   "id": "e0367747a20e5c75",
   "outputs": [],
   "execution_count": 226
  },
  {
   "metadata": {
    "ExecuteTime": {
     "end_time": "2025-04-27T21:37:35.889927Z",
     "start_time": "2025-04-27T21:37:35.883938Z"
    }
   },
   "cell_type": "code",
   "source": [
    "class Event:\n",
    "    def __init__(self, type, x, y, related_segments=None):\n",
    "        if related_segments is None:\n",
    "            self.related_segments = set()\n",
    "        else:\n",
    "            self.related_segments = related_segments\n",
    "        self.y = y\n",
    "        self.x = x\n",
    "        self.type = type\n",
    "\n",
    "    type: EventType\n",
    "\n",
    "    def __str__(self):\n",
    "        return f\"{self.type.name} x: {self.x} y: {self.y}\"\n",
    "\n",
    "    def __repr__(self):\n",
    "        return self.__str__()\n",
    "\n",
    "    def __lt__(self, other):\n",
    "        return self.y > other.y or (self.y == other.y and (\n",
    "                self.x < other.x or self.x == other.x and (\n",
    "                self.type == EventType.BEGIN and other.type == EventType.END or self.type == EventType.BEGIN and other.type == EventType.INTERSECT or\n",
    "                self.type == EventType.INTERSECT and other.type == EventType.END) and other.type != self.type))\n",
    "\n",
    "    def __eq__(self, other):\n",
    "        return self.x == other.x and self.y == other.y and self.type == other.type\n",
    "\n",
    "    def __ne__(self, other):\n",
    "        return not self.__eq__(other)\n"
   ],
   "id": "ce4c57e6a61bd73c",
   "outputs": [],
   "execution_count": 227
  },
  {
   "metadata": {
    "ExecuteTime": {
     "end_time": "2025-04-27T21:37:35.901738Z",
     "start_time": "2025-04-27T21:37:35.898183Z"
    }
   },
   "cell_type": "code",
   "source": [
    "def find_segment_x_by_current_y(seg, y):\n",
    "    return seg.start[0] + (seg.start[1] - seg.start[0]) * (y - seg.start[0]) / (seg.start[1] - seg.start[0])"
   ],
   "id": "a3c7267019b9fbbd",
   "outputs": [],
   "execution_count": 228
  },
  {
   "metadata": {
    "ExecuteTime": {
     "end_time": "2025-04-27T21:37:35.922901Z",
     "start_time": "2025-04-27T21:37:35.917387Z"
    }
   },
   "cell_type": "code",
   "source": [
    "class Segment:\n",
    "    def __init__(self, label, nparray):\n",
    "        self.label = label\n",
    "        if (nparray[0, 1] > nparray[1, 1]) or ((nparray[0, 1] == nparray[1, 1]) and (nparray[0, 0] > nparray[1, 0])):\n",
    "            self.start = nparray[0]\n",
    "            self.end = nparray[1]\n",
    "        else:\n",
    "            self.start = nparray[1]\n",
    "            self.end = nparray[0]\n",
    "        self.current_x = self.start[0]\n",
    "        self.current_y = self.start[1]\n",
    "\n",
    "    start: np.ndarray\n",
    "    end: np.ndarray\n",
    "\n",
    "    def __lt__(self, other):\n",
    "        return self.current_x < other.current_x or (self.current_x == other.current_x and self.end[0] < other.end[0])\n",
    "\n",
    "    def __eq__(self, other):\n",
    "        return self.label == other.label\n",
    "\n",
    "    def __neq__(self, other):\n",
    "        return self.label != other.label\n",
    "\n",
    "    def __hash__(self):\n",
    "        return self.label\n",
    "\n"
   ],
   "id": "590eb12fd4e5dd21",
   "outputs": [],
   "execution_count": 229
  },
  {
   "metadata": {
    "ExecuteTime": {
     "end_time": "2025-04-27T21:37:35.948152Z",
     "start_time": "2025-04-27T21:37:35.929912Z"
    }
   },
   "cell_type": "code",
   "source": [
    "def handle_event_point(p, events_q, seg_status, labels_set):\n",
    "    start_in_p = p.related_segments\n",
    "    end_in_p = set()\n",
    "    contain_p = set()\n",
    "    \n",
    "\n",
    "def find_intersections(segments_array):\n",
    "    events_q = SortedList()\n",
    "    seg_status = SortedList()\n",
    "    segments = list()\n",
    "    labels_set = set()\n",
    "    for i, s in enumerate(segments_array):\n",
    "        seg = Segment(i, s)\n",
    "        segments.append(seg)\n",
    "        beginning = Event(EventType.BEGIN, seg.start[0], seg.start[1])\n",
    "        end = Event(EventType.END, seg.end[0], seg.end[1])\n",
    "        if not beginning in events_q:\n",
    "            events_q.add(beginning)\n",
    "        if not end in events_q:\n",
    "            events_q.add(end)\n",
    "    for s in segments:\n",
    "        start = s.start\n",
    "        beg_e = Event(EventType.BEGIN, start[0], start[1])\n",
    "        end_e = Event(EventType.END, start[0], start[1])\n",
    "        if beg_e in events_q:\n",
    "            events_q[events_q.index(beg_e)].related_segments.add(s)\n",
    "        if end_e in events_q:\n",
    "            events_q[events_q.index(end_e)].related_segments.add(s)\n",
    "\n",
    "    while len(events_q) != 0:\n",
    "        p = events_q.pop(0)\n",
    "        handle_event_point(p, events_q, seg_status, labels_set)\n",
    "\n",
    "segments = generate_random_segments(n=10, min_intersections=2)\n",
    "\n",
    "intersections = find_intersections(segments)\n",
    "print(intersections)"
   ],
   "id": "21695c93230ee3b2",
   "outputs": [],
   "execution_count": 230
  }
 ],
 "metadata": {
  "kernelspec": {
   "display_name": "Python 3",
   "language": "python",
   "name": "python3"
  },
  "language_info": {
   "codemirror_mode": {
    "name": "ipython",
    "version": 2
   },
   "file_extension": ".py",
   "mimetype": "text/x-python",
   "name": "python",
   "nbconvert_exporter": "python",
   "pygments_lexer": "ipython2",
   "version": "2.7.6"
  }
 },
 "nbformat": 4,
 "nbformat_minor": 5
}
